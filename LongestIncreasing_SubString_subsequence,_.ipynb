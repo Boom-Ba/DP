{
  "nbformat": 4,
  "nbformat_minor": 0,
  "metadata": {
    "colab": {
      "name": "LongestIncreasing_SubString_subsequence,  .ipynb",
      "provenance": [],
      "authorship_tag": "ABX9TyOqxtXtzm5HlAA3erj8pZHx",
      "include_colab_link": true
    },
    "kernelspec": {
      "name": "python3",
      "display_name": "Python 3"
    },
    "language_info": {
      "name": "python"
    }
  },
  "cells": [
    {
      "cell_type": "markdown",
      "metadata": {
        "id": "view-in-github",
        "colab_type": "text"
      },
      "source": [
        "<a href=\"https://colab.research.google.com/github/Boom-Ba/DP/blob/main/LongestIncreasing_SubString_subsequence%2C_.ipynb\" target=\"_parent\"><img src=\"https://colab.research.google.com/assets/colab-badge.svg\" alt=\"Open In Colab\"/></a>"
      ]
    },
    {
      "cell_type": "code",
      "source": [
        "#recursion \n",
        "def findCatalanNumber1(n):\n",
        "  if n<=1:\n",
        "    return 1\n",
        "  res=0\n",
        "  #C(n) =C(0)*C(n-1)+C(1)*C(n-2)+...+C(i)*C(n-i-1)+...+C(n-1)*C(0)\n",
        "  for i in range(0,n):\n",
        "    res+=findCatalanNumber1(i)*findCatalanNumber1(n-i-1)\n",
        "  return res"
      ],
      "metadata": {
        "id": "0xRGkPH93Dg9"
      },
      "execution_count": 16,
      "outputs": []
    },
    {
      "cell_type": "code",
      "source": [
        "def findLongestIncreaseSubsequence(arr):\n",
        "  dp =[1]*len(arr)\n",
        "  n =len(arr)\n",
        "  for i in range(n-2,-1,-1):\n",
        "    for j in range(i+1,len(arr)):\n",
        "      if arr[i]<arr[j]:\n",
        "        dp[i] =max(dp[i],dp[j]+1)\n",
        "  return max(dp)"
      ],
      "metadata": {
        "id": "ScXhWs253ZFg"
      },
      "execution_count": 37,
      "outputs": []
    },
    {
      "cell_type": "code",
      "source": [
        "##S1=ABC, S2=AC, longest common subsequence='AC', substring='A'\n",
        "#1: create all substring for S1, S2, and compare. \n",
        "#   #of possible substrings for S1: O(len(s1))^2 \n",
        "#   time = n^2 *n^2 = n^4 \n",
        "#2. Optimize: 2D dp: \n",
        "def findLongestCommonSubstring(s1,s2):\n",
        "  m,n=(len(s1)+1),(len(s2)+1)\n",
        "  dp =[[0 for _ in range(n)] for _ in range(m)] \n",
        "  for i in range(n):\n",
        "    dp[0][i] =0\n",
        "  for i in range(m):\n",
        "    dp[i][0]=0\n",
        "  for i in range(1,m):\n",
        "    for j in range(1,n):\n",
        "      if s1[i-1]==s2[j-1]:\n",
        "        dp[i][j]=max(dp[i][j], dp[i-1][j-1]+1)\n",
        "      else:\n",
        "        dp[i][j]=0\n",
        "  return dp"
      ],
      "metadata": {
        "id": "cgXK6ckU9Flc"
      },
      "execution_count": 39,
      "outputs": []
    },
    {
      "cell_type": "code",
      "source": [
        "findLongestCommonSubstring('ACDGHR','ABCDGH')"
      ],
      "metadata": {
        "colab": {
          "base_uri": "https://localhost:8080/"
        },
        "id": "SGGPCNbM9IfQ",
        "outputId": "3cb1c246-e564-4a25-a5e6-8a07edae857d"
      },
      "execution_count": 40,
      "outputs": [
        {
          "output_type": "execute_result",
          "data": {
            "text/plain": [
              "[[0, 0, 0, 0, 0, 0, 0],\n",
              " [0, 1, 0, 0, 0, 0, 0],\n",
              " [0, 0, 0, 1, 0, 0, 0],\n",
              " [0, 0, 0, 0, 2, 0, 0],\n",
              " [0, 0, 0, 0, 0, 3, 0],\n",
              " [0, 0, 0, 0, 0, 0, 4],\n",
              " [0, 0, 0, 0, 0, 0, 0]]"
            ]
          },
          "metadata": {},
          "execution_count": 40
        }
      ]
    },
    {
      "cell_type": "code",
      "source": [
        "## Brute force, is 2^n for making possible subsequence,  so total 2^n1*2^n2=2^(2n)\n",
        "## Optimize: DP - Time: N1*N2, Space N1*N2\n",
        "def findLongestCommonSubsequence(s1,s2):\n",
        "  m,n=(len(s1)+1),(len(s2)+1)\n",
        "  dp =[[0 for _ in range(n)] for _ in range(m)] \n",
        "  for i in range(n):\n",
        "    dp[0][i] =0\n",
        "  for i in range(m):\n",
        "    dp[i][0]=0\n",
        "  for i in range(1,m):\n",
        "    for j in range(1,n):\n",
        "      if s1[i-1]==s2[j-1]:\n",
        "        dp[i][j]=max(dp[i][j], dp[i-1][j-1]+1)\n",
        "      else:\n",
        "        dp[i][j]=max(dp[i][j-1],dp[i-1][j])\n",
        "  return dp\n",
        "\n",
        "def get_path(a, b, dp, i, j):\n",
        "    if i == 0 or j == 0:\n",
        "        return ''\n",
        "    if a[i-1] == b[j-1]:\n",
        "      return get_path(a, b, dp, i-1, j-1) + a[i-1]\n",
        "    else:\n",
        "        if dp[i-1][j] > dp[i][j-1]:\n",
        "            return get_path(a, b, dp, i-1, j)\n",
        "        else:\n",
        "            return get_path(a, b, dp, i, j-1)\n",
        "\n",
        "if __name__ == \"__main__\":\n",
        "    a = \"BDCABA\"\n",
        "    b = \"ABCBDAB\"\n",
        "    dp= findLongestCommonSubsequence(a,b)\n",
        "    max_length =dp[-1][-1]\n",
        "    lcs_str = get_path(a, b, dp, len(a), len(b))\n",
        "    print(lcs_str)"
      ],
      "metadata": {
        "colab": {
          "base_uri": "https://localhost:8080/"
        },
        "id": "yZ25KLpnCbVa",
        "outputId": "e2b7851e-4655-41af-ea75-973cacb41075"
      },
      "execution_count": 94,
      "outputs": [
        {
          "output_type": "stream",
          "name": "stdout",
          "text": [
            "BCBA\n"
          ]
        }
      ]
    }
  ]
}
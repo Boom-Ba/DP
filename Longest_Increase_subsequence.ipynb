{
  "nbformat": 4,
  "nbformat_minor": 0,
  "metadata": {
    "colab": {
      "name": "Longest_Increase_subsequence",
      "provenance": [],
      "authorship_tag": "ABX9TyNKLDKb+78m7v9sK7Wy2Ico",
      "include_colab_link": true
    },
    "kernelspec": {
      "name": "python3",
      "display_name": "Python 3"
    },
    "language_info": {
      "name": "python"
    }
  },
  "cells": [
    {
      "cell_type": "markdown",
      "metadata": {
        "id": "view-in-github",
        "colab_type": "text"
      },
      "source": [
        "<a href=\"https://colab.research.google.com/github/Boom-Ba/DP/blob/main/Longest_Increase_subsequence.ipynb\" target=\"_parent\"><img src=\"https://colab.research.google.com/assets/colab-badge.svg\" alt=\"Open In Colab\"/></a>"
      ]
    },
    {
      "cell_type": "code",
      "source": [
        "#[0, 8, 4, 12, 2, 10, 6, 14, 1, 9, 5, 13, 3, 11, 7, 15]\n",
        "#exponential time- recursion \n",
        "import sys\n",
        "def longest_incresing(arr,i,prev,n,res):\n",
        "    if i==n:\n",
        "      return 0\n",
        "    #exclude\n",
        "    exclude= longest_incresing(arr,i+1,prev,n,res)\n",
        "    include= 0\n",
        "    if arr[i] > prev:\n",
        "      include= 1+ longest_incresing(arr,i+1,arr[i],n,res) \n",
        "    return max(include,exclude)\n",
        "arr=[0, 8, 4, 12, 2, 10, 6, 14, 1, 9, 5, 13, 3, 11, 7, 15]\n",
        "res=[]\n",
        "print(longest_incresing(arr,0,-sys.maxsize,len(arr),res))"
      ],
      "metadata": {
        "colab": {
          "base_uri": "https://localhost:8080/"
        },
        "id": "1qdQbIEFFbg7",
        "outputId": "12b5c9cc-955a-44cf-c5cc-3bb71734f510"
      },
      "execution_count": 27,
      "outputs": [
        {
          "output_type": "stream",
          "name": "stdout",
          "text": [
            "6\n"
          ]
        }
      ]
    },
    {
      "cell_type": "code",
      "source": [
        "#n^2\n",
        "def LIS(nums):\n",
        "  if not nums: return 0\n",
        "  dp=[0]*len(nums)\n",
        "  dp[0]=1\n",
        "  \n",
        "  for i in range(1,len(nums)):\n",
        "    for j in range(i):\n",
        "      if nums[j]<nums[i]:\n",
        "        dp[i]=max(dp[i],dp[j]+1)\n",
        "  return max(dp)"
      ],
      "metadata": {
        "id": "xmtqhvHlrfba"
      },
      "execution_count": 19,
      "outputs": []
    },
    {
      "cell_type": "code",
      "source": [
        "LIS(arr)"
      ],
      "metadata": {
        "colab": {
          "base_uri": "https://localhost:8080/"
        },
        "id": "TjOhtdcfvfvg",
        "outputId": "94e98dcd-cc42-40d7-b163-6515dcc6689c"
      },
      "execution_count": 20,
      "outputs": [
        {
          "output_type": "execute_result",
          "data": {
            "text/plain": [
              "6"
            ]
          },
          "metadata": {},
          "execution_count": 20
        }
      ]
    },
    {
      "cell_type": "code",
      "source": [
        "def printLIS(nums):\n",
        "  if not nums:\n",
        "    return \n",
        "  LIS =[[] for _ in range(len(nums))]\n",
        "  LIS[0].append(nums[0])\n",
        "  #[0]\n",
        "  for i in range(1,len(nums)):\n",
        "    for j in range(i): # j i\n",
        "      if nums[j]<nums[i] and len(LIS[j])>len(LIS[i]):\n",
        "        LIS[i]=LIS[j].copy()\n",
        "    LIS[i].append(nums[i])\n",
        "  return LIS\n",
        "print (printLIS(arr)[-1])"
      ],
      "metadata": {
        "colab": {
          "base_uri": "https://localhost:8080/"
        },
        "id": "mVl3K5sIso0H",
        "outputId": "5d7a2dab-61cf-425d-d4d8-22722577422a"
      },
      "execution_count": 43,
      "outputs": [
        {
          "output_type": "stream",
          "name": "stdout",
          "text": [
            "[0, 4, 6, 9, 13, 15]\n"
          ]
        }
      ]
    }
  ]
}
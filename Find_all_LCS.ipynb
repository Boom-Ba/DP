{
  "nbformat": 4,
  "nbformat_minor": 0,
  "metadata": {
    "colab": {
      "name": "Find all LCS",
      "provenance": [],
      "authorship_tag": "ABX9TyOtO77noe9mMlBEyuu0b4yY",
      "include_colab_link": true
    },
    "kernelspec": {
      "name": "python3",
      "display_name": "Python 3"
    },
    "language_info": {
      "name": "python"
    }
  },
  "cells": [
    {
      "cell_type": "markdown",
      "metadata": {
        "id": "view-in-github",
        "colab_type": "text"
      },
      "source": [
        "<a href=\"https://colab.research.google.com/github/Boom-Ba/DP/blob/main/Find_all_LCS.ipynb\" target=\"_parent\"><img src=\"https://colab.research.google.com/assets/colab-badge.svg\" alt=\"Open In Colab\"/></a>"
      ]
    },
    {
      "cell_type": "code",
      "source": [
        "\"\"\"\n",
        "S1= 'ABCBDAB'\n",
        "S2= 'BDCABA'\n",
        "LCS: 'BDAB'\n",
        "\"\"\"\n",
        "def createLookUp(s1,s2):\n",
        "  m = len(s1)\n",
        "  n =len(s2)\n",
        "  table = [[0 for _ in range(n+1)] for _ in range(m+1)]\n",
        "  for i in range(1,m+1):\n",
        "    for j in range(1,n+1):\n",
        "      if s1[i-1]==s2[j-1]:\n",
        "        table[i][j]=table[i-1][j-1]+1\n",
        "      else: #max(top,left)\n",
        "        table[i][j] =max(table[i-1][j],table[i][j-1])\n",
        "  return table\n",
        "\n",
        "#find one common subsequence for two strings\n",
        "def findLCSLength(table,s1,s2,m,n):\n",
        "  #any string contains 0 length, cann't find CS\n",
        "  if m==0 or n==0:\n",
        "    return ''\n",
        "  if s1[m-1]==s2[n-1]:\n",
        "    return findLCSLength(table,s1,s2,m-1,n-1) + s1[m-1]\n",
        "  elif table[m-1][n]>table[m][n-1]:\n",
        "    return findLCSLength(table,s1,s2,m-1,n)\n",
        "  else:\n",
        "    return findLCSLength(table,s1,s2,m,n-1)\n",
        "\n",
        "S1= 'ABCBDAB'\n",
        "S2= 'BDCABA'\n",
        "t= createLookUp(S1,S2)\n",
        "findLCSLength(t,S1,S2, len(S1),len(S2))"
      ],
      "metadata": {
        "colab": {
          "base_uri": "https://localhost:8080/",
          "height": 35
        },
        "id": "_PceNtkTzfyM",
        "outputId": "6ddf2263-d7d8-491d-f905-990c63385e0d"
      },
      "execution_count": 61,
      "outputs": [
        {
          "output_type": "execute_result",
          "data": {
            "application/vnd.google.colaboratory.intrinsic+json": {
              "type": "string"
            },
            "text/plain": [
              "'BDAB'"
            ]
          },
          "metadata": {},
          "execution_count": 61
        }
      ]
    },
    {
      "cell_type": "code",
      "source": [
        "def printAllLCS(s1,s2,m,n,table):\n",
        "  if m==0 or n==0:\n",
        "    return ['']\n",
        "  #match last character\n",
        "  if s1[m-1]==s2[n-1]:\n",
        "    #LCS results with excluding the last character in both strings\n",
        "    lcs_res= printAllLCS(s1,s2,m-1,n-1,table) \n",
        "    for i in range(len(lcs_res)):\n",
        "      #add into return results\n",
        "      lcs_res[i]=lcs_res[i]+s1[m-1]\n",
        "    return lcs_res\n",
        "  #if top value in look-up greater than left\n",
        "  elif table[m-1][n]>table[m][n-1]:\n",
        "    #so we exclude the last charter in s1\n",
        "    return printAllLCS(s1,s2,m-1,n,table)\n",
        "  elif table[m-1][n]<table[m][n-1]:\n",
        "    return printAllLCS(s1,s2,m,n-1,table)\n",
        "  else: #else top value equals left, considering both options\n",
        "    top =printAllLCS(s1,s2,m-1,n,table)\n",
        "    left=printAllLCS(s1,s2,m,n-1,table)\n",
        "    return top+left\n",
        "\n",
        "printAllLCS(S1,S2,len(S1),len(S2),t)"
      ],
      "metadata": {
        "colab": {
          "base_uri": "https://localhost:8080/"
        },
        "id": "q4iA_sHS1Y41",
        "outputId": "200aee97-84fb-4345-da51-20449c1d1398"
      },
      "execution_count": 58,
      "outputs": [
        {
          "output_type": "execute_result",
          "data": {
            "text/plain": [
              "['BCBA', 'BCAB', 'BDAB']"
            ]
          },
          "metadata": {},
          "execution_count": 58
        }
      ]
    }
  ]
}
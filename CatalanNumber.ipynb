{
  "nbformat": 4,
  "nbformat_minor": 0,
  "metadata": {
    "colab": {
      "name": "CatalanNumber.ipynb",
      "provenance": [],
      "authorship_tag": "ABX9TyMPyYI/sZ0hsbFvZfWOmM0K",
      "include_colab_link": true
    },
    "kernelspec": {
      "name": "python3",
      "display_name": "Python 3"
    },
    "language_info": {
      "name": "python"
    }
  },
  "cells": [
    {
      "cell_type": "markdown",
      "metadata": {
        "id": "view-in-github",
        "colab_type": "text"
      },
      "source": [
        "<a href=\"https://colab.research.google.com/github/Boom-Ba/DP/blob/main/CatalanNumber.ipynb\" target=\"_parent\"><img src=\"https://colab.research.google.com/assets/colab-badge.svg\" alt=\"Open In Colab\"/></a>"
      ]
    },
    {
      "cell_type": "code",
      "execution_count": 3,
      "metadata": {
        "id": "66ViHin8vejf"
      },
      "outputs": [],
      "source": [
        "import math\n",
        "#bionomial coefficient \n",
        "def findCatalanNumber(n):\n",
        "  return math.factorial(2*n)/(math.factorial(n)*math.factorial(n+1))"
      ]
    },
    {
      "cell_type": "code",
      "source": [
        "#recursion \n",
        "def findCatalanNumber1(n):\n",
        "  if n<=1:\n",
        "    return 1\n",
        "  res=0\n",
        "  #C(n) =C(0)*C(n-1)+C(1)*C(n-2)+...+C(i)*C(n-i-1)+...+C(n-1)*C(0)\n",
        "  for i in range(0,n):\n",
        "    res+=findCatalanNumber1(i)*findCatalanNumber1(n-i-1)\n",
        "  return res"
      ],
      "metadata": {
        "id": "0xRGkPH93Dg9"
      },
      "execution_count": 16,
      "outputs": []
    },
    {
      "cell_type": "code",
      "source": [
        "#dp C(n) =...+ C(i)*(n-i-1)+...\n",
        "def findCatalanNumber1(n):\n",
        "  arr_=[1]*2+[0]*(n-1)\n",
        "  for i in range(2,n+1): #find catalan from 2 to n-1\n",
        "  #i =2, (find 3rd Catalan), C(3)=C(2)*C(0)+C(1)*C(1)+C(0)*C(2)\n",
        "    for j in range(i):\n",
        "      arr_[i] +=arr_[j]*arr_[i-1-j]\n",
        "  return arr_[n]"
      ],
      "metadata": {
        "id": "ScXhWs253ZFg"
      },
      "execution_count": 30,
      "outputs": []
    }
  ]
}